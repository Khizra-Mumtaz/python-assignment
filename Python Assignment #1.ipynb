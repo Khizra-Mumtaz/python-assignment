{
 "cells": [
  {
   "cell_type": "code",
   "execution_count": 1,
   "metadata": {},
   "outputs": [
    {
     "name": "stdout",
     "output_type": "stream",
     "text": [
      "Twinkle Twinkle, little star,\n",
      "\tHow I wonder what you are!\n",
      "\tUp above the world so high,\n",
      "\tLike a diamond in the sky.\n",
      "Twinkle Twinkle, little star,\n",
      "\tHow I wonder what you are!\n"
     ]
    }
   ],
   "source": [
    "print(\"Twinkle Twinkle, little star,\\n\\tHow I wonder what you are!\\n\\tUp above the world so high,\\n\\tLike a diamond in the sky.\\nTwinkle Twinkle, little star,\\n\\tHow I wonder what you are!\")"
   ]
  },
  {
   "cell_type": "code",
   "execution_count": 2,
   "metadata": {},
   "outputs": [
    {
     "name": "stdout",
     "output_type": "stream",
     "text": [
      "Python version\n",
      "3.7.4 (default, Aug  9 2019, 18:34:13) [MSC v.1915 64 bit (AMD64)]\n",
      "Version info.\n",
      "sys.version_info(major=3, minor=7, micro=4, releaselevel='final', serial=0)\n"
     ]
    }
   ],
   "source": [
    "import sys\n",
    "print(\"Python version\")\n",
    "print (sys.version)\n",
    "print(\"Version info.\")\n",
    "print (sys.version_info)\n"
   ]
  },
  {
   "cell_type": "code",
   "execution_count": 3,
   "metadata": {},
   "outputs": [
    {
     "name": "stdout",
     "output_type": "stream",
     "text": [
      "The current Date And Time are:  2019-11-02 21:36:42.141820\n"
     ]
    }
   ],
   "source": [
    "from datetime import datetime\n",
    "current_datetime=datetime.now();\n",
    "print(\"The current Date And Time are: \", current_datetime)\n"
   ]
  },
  {
   "cell_type": "code",
   "execution_count": 4,
   "metadata": {},
   "outputs": [
    {
     "name": "stdout",
     "output_type": "stream",
     "text": [
      "Enter radius of circle: 5.5\n",
      "Area of circle is:  94.985\n"
     ]
    }
   ],
   "source": [
    "Radius=float(input(\"Enter radius of circle: \"))\n",
    "Area=(3.14)*(Radius)**2\n",
    "print(\"Area of circle is: \",Area)\n"
   ]
  },
  {
   "cell_type": "code",
   "execution_count": 5,
   "metadata": {},
   "outputs": [
    {
     "name": "stdout",
     "output_type": "stream",
     "text": [
      "Enter your first name: Khizra\n",
      "Enter your last name: Mumtaz\n",
      "Mumtaz Khizra\n"
     ]
    }
   ],
   "source": [
    "First_name=input(\"Enter your first name: \")\n",
    "Last_name=input(\"Enter your last name: \")\n",
    "print(Last_name+\" \"+First_name)\n"
   ]
  },
  {
   "cell_type": "code",
   "execution_count": 6,
   "metadata": {},
   "outputs": [
    {
     "name": "stdout",
     "output_type": "stream",
     "text": [
      "Enter an integer: 6\n",
      "Enter an integer: 15\n",
      "Result is:  21\n"
     ]
    }
   ],
   "source": [
    "x=int(input(\"Enter an integer: \"))\n",
    "y=int(input(\"Enter an integer: \"))\n",
    "result=x+y\n",
    "print(\"Result is: \",result)\n"
   ]
  },
  {
   "cell_type": "code",
   "execution_count": null,
   "metadata": {},
   "outputs": [],
   "source": []
  }
 ],
 "metadata": {
  "kernelspec": {
   "display_name": "Python 3",
   "language": "python",
   "name": "python3"
  },
  "language_info": {
   "codemirror_mode": {
    "name": "ipython",
    "version": 3
   },
   "file_extension": ".py",
   "mimetype": "text/x-python",
   "name": "python",
   "nbconvert_exporter": "python",
   "pygments_lexer": "ipython3",
   "version": "3.7.4"
  }
 },
 "nbformat": 4,
 "nbformat_minor": 2
}
