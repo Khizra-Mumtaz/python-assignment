{
 "cells": [
  {
   "cell_type": "code",
   "execution_count": 1,
   "metadata": {},
   "outputs": [
    {
     "name": "stdout",
     "output_type": "stream",
     "text": [
      "khizra\n",
      "mumtaz\n",
      "19\n",
      "karachi\n",
      "{'first_name': 'khizra', 'last_name': 'mumtaz', 'age': 19, 'city': 'karachi', 'qualification': 'matric'}\n",
      "{'first_name': 'khizra', 'last_name': 'mumtaz', 'age': 19, 'city': 'karachi', 'qualification': 'UnderGraduate'}\n",
      "{'first_name': 'khizra', 'last_name': 'mumtaz', 'age': 19, 'city': 'karachi'}\n"
     ]
    }
   ],
   "source": [
    "Data={\"first_name\":\"khizra\",\"last_name\":\"mumtaz\",\"age\":19,\"city\":\"karachi\"}\n",
    "for i in Data:\n",
    "    print(Data[i])\n",
    "Data[\"qualification\"]=\"matric\"\n",
    "print(Data)\n",
    "Data[\"qualification\"]=\"UnderGraduate\"\n",
    "print(Data)\n",
    "del Data[\"qualification\"]\n",
    "print(Data)"
   ]
  },
  {
   "cell_type": "code",
   "execution_count": 2,
   "metadata": {},
   "outputs": [
    {
     "name": "stdout",
     "output_type": "stream",
     "text": [
      "karachi {'country': 'pakistan', 'population': '2 crore', 'fact': 'city of light'}\n",
      "lahore {'country': 'pakistan', 'population': '2 crore', 'fact': 'badshahi masjid situated there'}\n",
      "islamabad {'country': 'pakistan', 'population': '2 crore', 'fact': 'capital city'}\n"
     ]
    }
   ],
   "source": [
    "cities={\n",
    "    \"karachi\":{\"country\":\"pakistan\",\"population\":\"2 crore\",\"fact\":\"city of light\"},\n",
    "    \"lahore\":{\"country\":\"pakistan\",\"population\":\"2 crore\",\"fact\":\"badshahi masjid situated there\"},\n",
    "    \"islamabad\":{\"country\":\"pakistan\",\"population\":\"2 crore\",\"fact\":\"capital city\"}    \n",
    "}\n",
    "for i in cities:\n",
    "    print(i,cities[i])"
   ]
  },
  {
   "cell_type": "code",
   "execution_count": 3,
   "metadata": {},
   "outputs": [
    {
     "name": "stdout",
     "output_type": "stream",
     "text": [
      "enter no of persons: 3\n",
      "Enter age of person3\n",
      "Enter age of person15\n",
      "Enter age of person13\n",
      "total price is: 40\n"
     ]
    }
   ],
   "source": [
    "x=int(input(\"enter no of persons: \"))\n",
    "rate =0\n",
    "for i in range(x):\n",
    "    y=0\n",
    "    y=int(input(\"Enter age of person \"))\n",
    "    if y < 3:\n",
    "        rate=rate+0\n",
    "    elif y >=3 and y<=12:\n",
    "        rate=rate+10\n",
    "    elif y > 12:\n",
    "        rate =rate+15\n",
    "print(\"total price is:\", rate)"
   ]
  },
  {
   "cell_type": "code",
   "execution_count": 4,
   "metadata": {},
   "outputs": [
    {
     "name": "stdout",
     "output_type": "stream",
     "text": [
      "my favorite book is: mushaf\n"
     ]
    }
   ],
   "source": [
    "def fav_book(title):\n",
    "    print(\"my favorite book is:\",title)\n",
    "fav_book(\"mushaf\")"
   ]
  },
  {
   "cell_type": "code",
   "execution_count": 5,
   "metadata": {},
   "outputs": [
    {
     "name": "stdout",
     "output_type": "stream",
     "text": [
      "Hello! What is your name?\n",
      "khizra\n",
      "Well, khizra, I am thinking of a number between 1 and 30.\n",
      "Take a guess.\n",
      "11\n",
      "Your guess is too high.\n",
      "Take a guess.\n",
      "3\n",
      "Your guess is too low.\n",
      "Take a guess.\n",
      "7\n",
      "Your guess is too low.\n",
      "Nope. The number I was thinking of was 9\n"
     ]
    }
   ],
   "source": [
    "import random\n",
    "\n",
    "guessesTaken = 0\n",
    "\n",
    "print('Hello! What is your name?')\n",
    "myName = input()\n",
    "number = random.randint(1, 30)\n",
    "print('Well, ' + myName + ', I am thinking of a number between 1 and 30.')\n",
    "while guessesTaken < 3:\n",
    "    print('Take a guess.')\n",
    "    guess = input()\n",
    "    guess = int(guess)\n",
    "    guessesTaken = guessesTaken + 1\n",
    "    if guess < number:\n",
    "        print('Your guess is too low.') # There are eight spaces in front of print.\n",
    "    if guess > number:\n",
    "        print('Your guess is too high.')\n",
    "    if guess == number:\n",
    "        break\n",
    "if guess == number:\n",
    "        guessesTaken = str(guessesTaken)\n",
    "        print('Good job, ' + myName + '! You guessed my number in ' + guessesTaken + ' guesses!')\n",
    "if guess != number:\n",
    "    number = str(number)\n",
    "    print('Nope. The number I was thinking of was ' + number)"
   ]
  },
  {
   "cell_type": "code",
   "execution_count": null,
   "metadata": {},
   "outputs": [],
   "source": []
  }
 ],
 "metadata": {
  "kernelspec": {
   "display_name": "Python 3",
   "language": "python",
   "name": "python3"
  },
  "language_info": {
   "codemirror_mode": {
    "name": "ipython",
    "version": 3
   },
   "file_extension": ".py",
   "mimetype": "text/x-python",
   "name": "python",
   "nbconvert_exporter": "python",
   "pygments_lexer": "ipython3",
   "version": "3.7.4"
  }
 },
 "nbformat": 4,
 "nbformat_minor": 2
}
