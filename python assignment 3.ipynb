{
 "cells": [
  {
   "cell_type": "code",
   "execution_count": 1,
   "metadata": {},
   "outputs": [
    {
     "name": "stdout",
     "output_type": "stream",
     "text": [
      "enter no: 10\n",
      "enter no: 2\n",
      "enter operator: **\n",
      "result:  100\n"
     ]
    }
   ],
   "source": [
    "x=int(input(\"enter no: \"))\n",
    "y=int(input(\"enter no: \"))\n",
    "opt=(input(\"enter operator: \"))\n",
    "if opt=='+':\n",
    "    print(\"result: \",x+y)\n",
    "elif opt=='-':\n",
    "    print(\"result: \",x-y)\n",
    "elif opt=='/':\n",
    "    print(\"result: \",x/y)\n",
    "elif opt=='*':\n",
    "    print(\"result: \",x*y)\n",
    "elif opt=='**':\n",
    "    print(\"result: \",x**y) \n",
    "else:\n",
    "    print(\"wromg operator.\")\n",
    "    "
   ]
  },
  {
   "cell_type": "code",
   "execution_count": 2,
   "metadata": {},
   "outputs": [
    {
     "name": "stdout",
     "output_type": "stream",
     "text": [
      "the no of numeric values in the list is:  3\n"
     ]
    }
   ],
   "source": [
    "lis=[2,4,\"khizra\",\"mumtaz\",8]\n",
    "count=0\n",
    "for i in range(len(lis)):\n",
    "    if type(lis[i]) is int or type(lis[i]) is float:\n",
    "        count=count+1\n",
    "\n",
    "print(\"the no of numeric values in the list is: \",count)\n",
    "    "
   ]
  },
  {
   "cell_type": "code",
   "execution_count": 4,
   "metadata": {},
   "outputs": [
    {
     "name": "stdout",
     "output_type": "stream",
     "text": [
      "{1: 'karachi', 2: 'lahore', 3: 'peshawar'}\n"
     ]
    }
   ],
   "source": [
    "dic1={1:\"karachi\",2:\"lahore\"}\n",
    "dic1[3]=\"peshawar\"\n",
    "print(dic1)"
   ]
  },
  {
   "cell_type": "code",
   "execution_count": 5,
   "metadata": {},
   "outputs": [
    {
     "name": "stdout",
     "output_type": "stream",
     "text": [
      "sum of numeric values is:  29\n"
     ]
    }
   ],
   "source": [
    "lis=[11,\"hello\",3,5,10]\n",
    "sum1=0\n",
    "for i in range(len(lis)):\n",
    "    if type(lis[i]) is int:\n",
    "        sum1=sum1+lis[i]\n",
    "print(\"sum of numeric values is: \",sum1)    "
   ]
  },
  {
   "cell_type": "code",
   "execution_count": 6,
   "metadata": {},
   "outputs": [
    {
     "name": "stdout",
     "output_type": "stream",
     "text": [
      "enter a key: 4\n",
      "not repeated.\n"
     ]
    }
   ],
   "source": [
    "dic1={'1':\"karachi\",'2':\"lahore\",3:\"peshawar\"}\n",
    "key1=input (\"enter a key: \")\n",
    "if key1 in dic1:\n",
    "    print(\"repeated.\")\n",
    "else:\n",
    "    print(\"not repeated.\")"
   ]
  },
  {
   "cell_type": "code",
   "execution_count": null,
   "metadata": {},
   "outputs": [],
   "source": []
  }
 ],
 "metadata": {
  "kernelspec": {
   "display_name": "Python 3",
   "language": "python",
   "name": "python3"
  },
  "language_info": {
   "codemirror_mode": {
    "name": "ipython",
    "version": 3
   },
   "file_extension": ".py",
   "mimetype": "text/x-python",
   "name": "python",
   "nbconvert_exporter": "python",
   "pygments_lexer": "ipython3",
   "version": "3.7.4"
  }
 },
 "nbformat": 4,
 "nbformat_minor": 2
}
