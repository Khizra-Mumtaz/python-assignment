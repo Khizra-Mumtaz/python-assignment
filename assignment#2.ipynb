{
 "cells": [
  {
   "cell_type": "code",
   "execution_count": 1,
   "metadata": {},
   "outputs": [
    {
     "name": "stdout",
     "output_type": "stream",
     "text": [
      "Enter your marks in:\n",
      "\n",
      "Maths: 87\n",
      "English: 89\n",
      "Urdu: 80\n",
      "Physics: 95\n",
      "Chemistry: 94\n",
      "Your Percentage is:  89.0\n",
      "Your Grade is: A-1\n"
     ]
    }
   ],
   "source": [
    "print(\"Enter your marks in:\\n\")\n",
    "math=int(input(\"Maths: \"))\n",
    "eng=int(input(\"English: \"))\n",
    "urdu=int(input(\"Urdu: \"))\n",
    "phy=int(input(\"Physics: \"))\n",
    "chem=int(input(\"Chemistry: \"))\n",
    "total=math+eng+urdu+phy+chem\n",
    "per=float((total/500)*100)\n",
    "if per>=80 and per<=100:\n",
    "    print(\"Your Percentage is: \",per)\n",
    "    print(\"Your Grade is: A-1\")\n",
    "elif per>=70 and per<80 :\n",
    "    print(\"Your Percentage is: \",per)\n",
    "    print(\"Your Grade is: A\")\n",
    "elif per>=60 and per<70:\n",
    "    print(\"Your Percentage is: \",per)\n",
    "    print(\"Your Grade is: B\")\n",
    "elif per>=50 and per<60:\n",
    "    print(\"Your Percentage is: \",per)\n",
    "    print(\"Your Grade is: c\")\n",
    "elif per>=45 and per<50:\n",
    "    print(\"Your Percentage is: \",per)\n",
    "    print(\"Your Grade is: D\")\n",
    "else:\n",
    "    print(\"Your Percentage is: \",per)\n",
    "    print(\"You are fail\")"
   ]
  },
  {
   "cell_type": "code",
   "execution_count": 2,
   "metadata": {},
   "outputs": [
    {
     "name": "stdout",
     "output_type": "stream",
     "text": [
      "Enter a no: 101\n",
      "No. is Odd.\n"
     ]
    }
   ],
   "source": [
    "x=int(input(\"Enter a no: \"))\n",
    "if x%2==0:\n",
    "    print(\"No. is Even.\")\n",
    "else :\n",
    "    print(\"No. is Odd.\")"
   ]
  },
  {
   "cell_type": "code",
   "execution_count": 3,
   "metadata": {},
   "outputs": [
    {
     "name": "stdout",
     "output_type": "stream",
     "text": [
      "lenght of list is:  4\n"
     ]
    }
   ],
   "source": [
    "list=['one','two','three','four']\n",
    "print(\"lenght of list is: \",len(list))"
   ]
  },
  {
   "cell_type": "code",
   "execution_count": 4,
   "metadata": {},
   "outputs": [
    {
     "name": "stdout",
     "output_type": "stream",
     "text": [
      "sum is:  21\n"
     ]
    }
   ],
   "source": [
    "list=[1,2,3,4,5,6]\n",
    "x=len(list)\n",
    "sum=0\n",
    "for i in range(x) :\n",
    "    sum=sum+list[i]\n",
    "    i=+1\n",
    "print(\"sum is: \",sum)"
   ]
  },
  {
   "cell_type": "code",
   "execution_count": 5,
   "metadata": {},
   "outputs": [
    {
     "name": "stdout",
     "output_type": "stream",
     "text": [
      "Largest term is:  73\n"
     ]
    }
   ],
   "source": [
    "list=[10,22,73,43,5,61]\n",
    "print(\"Largest term is: \",max(list))"
   ]
  },
  {
   "cell_type": "code",
   "execution_count": 6,
   "metadata": {},
   "outputs": [
    {
     "name": "stdout",
     "output_type": "stream",
     "text": [
      "1\n",
      "1\n",
      "2\n",
      "3\n"
     ]
    }
   ],
   "source": [
    "a = [1, 1, 2, 3, 5, 8, 13, 21, 34, 55, 89] \n",
    "x=len(a)\n",
    "i=0\n",
    "for i in range(x):\n",
    "    if a[i]<5:\n",
    "        print(a[i])\n",
    "    i=i+1"
   ]
  },
  {
   "cell_type": "code",
   "execution_count": null,
   "metadata": {},
   "outputs": [],
   "source": []
  }
 ],
 "metadata": {
  "kernelspec": {
   "display_name": "Python 3",
   "language": "python",
   "name": "python3"
  },
  "language_info": {
   "codemirror_mode": {
    "name": "ipython",
    "version": 3
   },
   "file_extension": ".py",
   "mimetype": "text/x-python",
   "name": "python",
   "nbconvert_exporter": "python",
   "pygments_lexer": "ipython3",
   "version": "3.7.4"
  }
 },
 "nbformat": 4,
 "nbformat_minor": 2
}
